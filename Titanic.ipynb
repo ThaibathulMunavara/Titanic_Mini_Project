{
 "cells": [
  {
   "cell_type": "markdown",
   "id": "99f4d9f7-95b8-4cfb-bda7-9d21ca900fa3",
   "metadata": {},
   "source": [
    "## Titanic datset Prediction using the K nearest neighbor(kNN) with Scikit Learn"
   ]
  },
  {
   "cell_type": "code",
   "execution_count": 3,
   "id": "9c7bc642-7d3a-478b-a040-6174378818f3",
   "metadata": {},
   "outputs": [],
   "source": [
    "#Step 1 : Import the libraries\n",
    "import pandas as pd\n",
    "import numpy as np\n",
    "import seaborn as sns\n",
    "import matplotlib.pyplot as plt\n",
    "from sklearn.model_selection import train_test_split\n",
    "from sklearn.preprocessing import LabelEncoder\n",
    "from sklearn.ensemble import RandomForestClassifier\n",
    "from sklearn.metrics import accuracy_score, classification_report, confusion_matrix"
   ]
  },
  {
   "cell_type": "code",
   "execution_count": null,
   "id": "3f3fbf70-33dc-48e7-9011-62763f3e103c",
   "metadata": {},
   "outputs": [],
   "source": []
  }
 ],
 "metadata": {
  "kernelspec": {
   "display_name": "Python 3 (ipykernel)",
   "language": "python",
   "name": "python3"
  },
  "language_info": {
   "codemirror_mode": {
    "name": "ipython",
    "version": 3
   },
   "file_extension": ".py",
   "mimetype": "text/x-python",
   "name": "python",
   "nbconvert_exporter": "python",
   "pygments_lexer": "ipython3",
   "version": "3.12.3"
  }
 },
 "nbformat": 4,
 "nbformat_minor": 5
}
